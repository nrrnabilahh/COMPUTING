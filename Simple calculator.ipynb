{
 "cells": [
  {
   "cell_type": "code",
   "execution_count": null,
   "id": "e67f379c",
   "metadata": {},
   "outputs": [],
   "source": [
    "try:\n",
    "    a = int(input(\"Enter the first number: \"))\n",
    "    b = int(input(\"Enter the second number: \"))\n",
    "    operation = input(\"Enter an operation (+, -, *, /): \")\n",
    "    \n",
    "    if operation == '+':\n",
    "        result = a + b\n",
    "        print(result)\n",
    "    elif operation == '-':\n",
    "        result = a - b\n",
    "        print(result)\n",
    "    elif operation == '*':\n",
    "        result = a*b\n",
    "        print(result)\n",
    "    elif opeartion == '/':\n",
    "        result = a/b\n",
    "        print(result)\n",
    "    else:\n",
    "        print(\"invalid operation. please choose again\")\n",
    "            \n",
    "except ZeroDivisionError:\n",
    "    print(\"division by zero is not allowed\")\n",
    "except ValueError:\n",
    "    print(\"please enter a valid number\")"
   ]
  },
  {
   "cell_type": "code",
   "execution_count": null,
   "id": "86bd21e5",
   "metadata": {},
   "outputs": [],
   "source": []
  }
 ],
 "metadata": {
  "kernelspec": {
   "display_name": "Python 3 (ipykernel)",
   "language": "python",
   "name": "python3"
  },
  "language_info": {
   "codemirror_mode": {
    "name": "ipython",
    "version": 3
   },
   "file_extension": ".py",
   "mimetype": "text/x-python",
   "name": "python",
   "nbconvert_exporter": "python",
   "pygments_lexer": "ipython3",
   "version": "3.11.5"
  }
 },
 "nbformat": 4,
 "nbformat_minor": 5
}
